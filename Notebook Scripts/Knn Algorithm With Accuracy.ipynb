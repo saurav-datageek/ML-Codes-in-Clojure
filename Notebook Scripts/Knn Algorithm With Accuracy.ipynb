{
 "cells": [
  {
   "cell_type": "code",
   "execution_count": 1,
   "metadata": {},
   "outputs": [],
   "source": [
    ";;; Let's do some Knn! That is, K nearest neighbour! "
   ]
  },
  {
   "cell_type": "code",
   "execution_count": 1,
   "metadata": {},
   "outputs": [],
   "source": [
    "(ns knn\n",
    "  (:require\n",
    "            [clojure.data.fressian :as fress]\n",
    "            [clojure.java.io :as io]\n",
    "            [clojure.set :as set]\n",
    "            [clojure.string :as str]))"
   ]
  },
  {
   "cell_type": "code",
   "execution_count": 3,
   "metadata": {},
   "outputs": [],
   "source": [
    ";;; Knn is an algorithm based on similarity score. So, let us use cosine similarity as our measure of similarity. \n",
    ";;; To use cosine similarity, we need to have a function to calculate dot product and magnitude between two vectors."
   ]
  },
  {
   "cell_type": "code",
   "execution_count": 4,
   "metadata": {},
   "outputs": [
    {
     "data": {
      "text/plain": [
       "32"
      ]
     },
     "execution_count": 4,
     "metadata": {},
     "output_type": "execute_result"
    }
   ],
   "source": [
    "(reduce + (map * [1 2 3] [4 5 6])) ; To find the dot product between two vectors."
   ]
  },
  {
   "cell_type": "code",
   "execution_count": 5,
   "metadata": {},
   "outputs": [
    {
     "data": {
      "text/plain": [
       "#'knn/dot"
      ]
     },
     "execution_count": 5,
     "metadata": {},
     "output_type": "execute_result"
    }
   ],
   "source": [
    "(defn dot [v1 v2]\n",
    "(reduce + (map * v1 v2)))\n"
   ]
  },
  {
   "cell_type": "code",
   "execution_count": 6,
   "metadata": {},
   "outputs": [
    {
     "data": {
      "text/plain": [
       "3.7416573867739413"
      ]
     },
     "execution_count": 6,
     "metadata": {},
     "output_type": "execute_result"
    }
   ],
   "source": [
    "(reduce + (map * [1 2 3] [1 2 3])) ;To find the magnitude of a vector.\n",
    "(Math/sqrt 14)"
   ]
  },
  {
   "cell_type": "code",
   "execution_count": 7,
   "metadata": {},
   "outputs": [
    {
     "data": {
      "text/plain": [
       "#'knn/magnitude"
      ]
     },
     "execution_count": 7,
     "metadata": {},
     "output_type": "execute_result"
    }
   ],
   "source": [
    "(defn magnitude [v]\n",
    "(Math/sqrt (reduce + (map * v v))))\n"
   ]
  },
  {
   "cell_type": "code",
   "execution_count": 8,
   "metadata": {},
   "outputs": [
    {
     "data": {
      "text/plain": [
       "#'knn/cosine"
      ]
     },
     "execution_count": 8,
     "metadata": {},
     "output_type": "execute_result"
    }
   ],
   "source": [
    "(defn cosine [v1 v2]\n",
    "(/ (dot v1 v2) (* (magnitude v1) (magnitude v2))))"
   ]
  },
  {
   "cell_type": "code",
   "execution_count": 9,
   "metadata": {},
   "outputs": [
    {
     "name": "stdout",
     "output_type": "stream",
     "text": [
      "0.9746318461970762\n",
      "1.0\n"
     ]
    }
   ],
   "source": [
    "(prn (cosine [1 2 3] [4 5 6])) ;;; To check for cosine scores between two vectors. \n",
    "(prn (cosine [1 2 3] [1 2 3])) ;;; To check that cosine score is 1 for same vector."
   ]
  },
  {
   "cell_type": "code",
   "execution_count": 10,
   "metadata": {},
   "outputs": [],
   "source": [
    ";;; For our problem, we will use the Iris dataset and find the K nearest neighbour for a test datapoint.\n",
    ";;; Since we want to predict a class for our test dataset, our knn for Iris is a Classification Problem."
   ]
  },
  {
   "cell_type": "code",
   "execution_count": 2,
   "metadata": {},
   "outputs": [
    {
     "data": {
      "text/plain": [
       "#'knn/load-iris"
      ]
     },
     "execution_count": 2,
     "metadata": {},
     "output_type": "execute_result"
    }
   ],
   "source": [
    ";;; Functions to read csv file in clojure. \n",
    "\n",
    "(defn line->stype\n",
    "\n",
    "  [line]\n",
    "  (let [[a b c d e] (str/split line #\"[,]\")]\n",
    "    {:sepal-length a\n",
    "     :sepal-width b\n",
    "     :petal-length c\n",
    "     :petal-width d\n",
    "     :iris e\n",
    "     }))\n",
    "\n",
    "\n",
    "(defn load-iris\n",
    "\n",
    "  []\n",
    "  (if (.exists (io/file \"resources/Iris.csv\"))\n",
    "    (->> (io/resource \"Iris.csv\")\n",
    "         (io/reader)\n",
    "         (line-seq)\n",
    "         (map #(line->stype %)))\n",
    "    nil))\n"
   ]
  },
  {
   "cell_type": "code",
   "execution_count": 12,
   "metadata": {},
   "outputs": [],
   "source": [
    ";;; Next few steps will be data preparation steps before we jump into the algorithms. "
   ]
  },
  {
   "cell_type": "code",
   "execution_count": 3,
   "metadata": {},
   "outputs": [
    {
     "data": {
      "text/plain": [
       "#'knn/iris-data"
      ]
     },
     "execution_count": 3,
     "metadata": {},
     "output_type": "execute_result"
    }
   ],
   "source": [
    ";# Data Loading #;\n",
    "\n",
    "(def iris-data (drop 1 (load-iris)))"
   ]
  },
  {
   "cell_type": "code",
   "execution_count": 4,
   "metadata": {},
   "outputs": [
    {
     "data": {
      "text/plain": [
       "({:sepal-length \"5.1\", :sepal-width \"3.5\", :petal-length \"1.4\", :petal-width \"0.2\", :iris \"Iris-setosa\"} {:sepal-length \"4.9\", :sepal-width \"3\", :petal-length \"1.4\", :petal-width \"0.2\", :iris \"Iris-setosa\"} {:sepal-length \"4.7\", :sepal-width \"3.2\", :petal-length \"1.3\", :petal-width \"0.2\", :iris \"Iris-setosa\"} {:sepal-length \"4.6\", :sepal-width \"3.1\", :petal-length \"1.5\", :petal-width \"0.2\", :iris \"Iris-setosa\"} {:sepal-length \"5\", :sepal-width \"3.6\", :petal-length \"1.4\", :petal-width \"0.2\", :iris \"Iris-setosa\"})"
      ]
     },
     "execution_count": 4,
     "metadata": {},
     "output_type": "execute_result"
    }
   ],
   "source": [
    "(take 5 iris-data)"
   ]
  },
  {
   "cell_type": "code",
   "execution_count": 15,
   "metadata": {},
   "outputs": [],
   "source": [
    ";;; Now let's reshape the data in such a way that we have all the values together as a data point \n",
    ";;;(that is list in our case)."
   ]
  },
  {
   "cell_type": "code",
   "execution_count": 16,
   "metadata": {},
   "outputs": [],
   "source": [
    ";;; Like {:name x :value [1 2 3 4 5]}"
   ]
  },
  {
   "cell_type": "code",
   "execution_count": 17,
   "metadata": {},
   "outputs": [
    {
     "data": {
      "text/plain": [
       "#'knn/reshaped-iris-data"
      ]
     },
     "execution_count": 17,
     "metadata": {},
     "output_type": "execute_result"
    }
   ],
   "source": [
    "(def reshaped-iris-data (reduce (fn [v m] (conj v {:name (:iris m) :value  (mapv read-string [(:sepal-length m)(:sepal-width m) (:sepal-width m)\n",
    "(:petal-length m)])}))\n",
    "         [] iris-data ))"
   ]
  },
  {
   "cell_type": "code",
   "execution_count": 18,
   "metadata": {},
   "outputs": [
    {
     "data": {
      "text/plain": [
       "({:name \"Iris-setosa\", :value [5.1 3.5 3.5 1.4]} {:name \"Iris-setosa\", :value [4.9 3 3 1.4]} {:name \"Iris-setosa\", :value [4.7 3.2 3.2 1.3]})"
      ]
     },
     "execution_count": 18,
     "metadata": {},
     "output_type": "execute_result"
    }
   ],
   "source": [
    "(take 3 reshaped-iris-data)"
   ]
  },
  {
   "cell_type": "code",
   "execution_count": 19,
   "metadata": {},
   "outputs": [],
   "source": [
    ";;; Now, let's store only the value data points together. "
   ]
  },
  {
   "cell_type": "code",
   "execution_count": 20,
   "metadata": {},
   "outputs": [
    {
     "data": {
      "text/plain": [
       "#'knn/only-value"
      ]
     },
     "execution_count": 20,
     "metadata": {},
     "output_type": "execute_result"
    }
   ],
   "source": [
    "(def only-value (reduce (fn [v m] (conj v (:value m))) [] reshaped-iris-data))"
   ]
  },
  {
   "cell_type": "code",
   "execution_count": 21,
   "metadata": {},
   "outputs": [
    {
     "name": "stdout",
     "output_type": "stream",
     "text": [
      "150\n",
      "([5.1 3.5 3.5 1.4] [4.9 3 3 1.4] [4.7 3.2 3.2 1.3] [4.6 3.1 3.1 1.5] [5 3.6 3.6 1.4])\n"
     ]
    }
   ],
   "source": [
    "(prn (count only-value))\n",
    "(prn (take 5 only-value))"
   ]
  },
  {
   "cell_type": "code",
   "execution_count": 22,
   "metadata": {},
   "outputs": [],
   "source": [
    ";;; Now, let's take a test data point to find its closest nearest neighbour in our iris data set.\n",
    ";;; Let the dummy test data be [1 2 3 4].\n",
    ";;; We will store its cosine similarity values then."
   ]
  },
  {
   "cell_type": "code",
   "execution_count": 23,
   "metadata": {},
   "outputs": [
    {
     "data": {
      "text/plain": [
       "#'knn/cosine-values"
      ]
     },
     "execution_count": 23,
     "metadata": {},
     "output_type": "execute_result"
    }
   ],
   "source": [
    "(def cosine-values (mapv #(cosine [5.4 3 3 4.5] %) only-value))"
   ]
  },
  {
   "cell_type": "code",
   "execution_count": 24,
   "metadata": {},
   "outputs": [],
   "source": [
    ";;; Now, we will look into the highest cosine scores values and also store its indices."
   ]
  },
  {
   "cell_type": "code",
   "execution_count": 25,
   "metadata": {},
   "outputs": [
    {
     "data": {
      "text/plain": [
       "([84 1.0] [70 0.9999290061909883] [66 0.9998369574797291])"
      ]
     },
     "execution_count": 25,
     "metadata": {},
     "output_type": "execute_result"
    }
   ],
   "source": [
    "(def max-values-with-index  (sort-by second > (map-indexed vector cosine-values)))\n",
    "(take 3 max-values-with-index)"
   ]
  },
  {
   "cell_type": "code",
   "execution_count": 26,
   "metadata": {},
   "outputs": [],
   "source": [
    ";;; First, we will look for the 5 nearest neighbours in our dataset. That is, we set k = 5.\n",
    ";;; Later, we will make a generic function for any value of k."
   ]
  },
  {
   "cell_type": "code",
   "execution_count": 27,
   "metadata": {},
   "outputs": [
    {
     "data": {
      "text/plain": [
       "(84 70 66)"
      ]
     },
     "execution_count": 27,
     "metadata": {},
     "output_type": "execute_result"
    }
   ],
   "source": [
    "(def index-of-max-values (reduce (fn [v l] (conj v (first l))) [] (take 5 max-values-with-index))) \n",
    "(take 3 index-of-max-values)"
   ]
  },
  {
   "cell_type": "code",
   "execution_count": 28,
   "metadata": {},
   "outputs": [],
   "source": [
    ";;; Now, using the above indices, we will access the data points of our iris data. "
   ]
  },
  {
   "cell_type": "code",
   "execution_count": 29,
   "metadata": {},
   "outputs": [
    {
     "name": "stdout",
     "output_type": "stream",
     "text": [
      "[{:name \"Iris-versicolor\", :value [5.4 3 3 4.5]} {:name \"Iris-versicolor\", :value [5.9 3.2 3.2 4.8]} {:name \"Iris-versicolor\", :value [5.6 3 3 4.5]} {:name \"Iris-virginica\", :value [6.2 3.4 3.4 5.4]} {:name \"Iris-virginica\", :value [6.3 3.4 3.4 5.6]}]\n"
     ]
    }
   ],
   "source": [
    "(def top-5  (mapv reshaped-iris-data index-of-max-values));# To get the values from vector of maps using index\n",
    "(prn top-5)"
   ]
  },
  {
   "cell_type": "code",
   "execution_count": 30,
   "metadata": {},
   "outputs": [],
   "source": [
    ";;; Therefore, above are the five closest neighbours of our chosen test data. "
   ]
  },
  {
   "cell_type": "code",
   "execution_count": 31,
   "metadata": {},
   "outputs": [],
   "source": [
    ";;; Now, we will select only the names of the neighbours and take the mode of the name, as this is a classification \n",
    ";;; problem. "
   ]
  },
  {
   "cell_type": "code",
   "execution_count": 32,
   "metadata": {},
   "outputs": [
    {
     "name": "stdout",
     "output_type": "stream",
     "text": [
      "[\"Iris-versicolor\" \"Iris-versicolor\" \"Iris-versicolor\" \"Iris-virginica\" \"Iris-virginica\"]\n"
     ]
    }
   ],
   "source": [
    "(def final-5 (reduce (fn [v m] (conj v (:name m))) [] top-5))\n",
    "(prn final-5)"
   ]
  },
  {
   "cell_type": "code",
   "execution_count": 33,
   "metadata": {},
   "outputs": [],
   "source": [
    ";Above 5 are the five closest neighbours of our chosen data point. \n",
    ";Now, to select the one with highest mode, we sort the labels on the basis of frequency and\n",
    ";;; take the first one (sorted on the basis of descending order.)"
   ]
  },
  {
   "cell_type": "code",
   "execution_count": 34,
   "metadata": {},
   "outputs": [
    {
     "data": {
      "text/plain": [
       "\"Iris-versicolor\""
      ]
     },
     "execution_count": 34,
     "metadata": {},
     "output_type": "execute_result"
    }
   ],
   "source": [
    "(first (first (sort-by val >(frequencies final-5))))"
   ]
  },
  {
   "cell_type": "code",
   "execution_count": 35,
   "metadata": {},
   "outputs": [],
   "source": [
    ";;; Therefore, the nearest neighbour of our chosen test data point is Iris-Virginica. "
   ]
  },
  {
   "cell_type": "code",
   "execution_count": 36,
   "metadata": {},
   "outputs": [],
   "source": [
    ";;; Now we will create a generic function that works for any value of k."
   ]
  },
  {
   "cell_type": "code",
   "execution_count": 37,
   "metadata": {},
   "outputs": [],
   "source": [
    ";;; Our function will take a 3 argument.\n",
    ";;; test-data : It will be a data point stored on the form of a vector.\n",
    ";;; train-data : It will be a list of maps, with :name having name and :value having data points. \n",
    ";;; ({:name \"Iris-setosa\", :value [5.1 3.5 3.5 1.4]} {:name \"Iris-setosa\", :value [4.9 3 3 1.4]} )\n",
    ";;; k : It will be the value of k chosen for k nearest neighbours. "
   ]
  },
  {
   "cell_type": "code",
   "execution_count": 38,
   "metadata": {},
   "outputs": [
    {
     "data": {
      "text/plain": [
       "#'knn/knn"
      ]
     },
     "execution_count": 38,
     "metadata": {},
     "output_type": "execute_result"
    }
   ],
   "source": [
    "(defn knn [test-data train-data k]\n",
    "    (let\n",
    "        [only-value (reduce (fn [v m] (conj v (:value m))) [] train-data)\n",
    "         cosine-values (mapv #(cosine test-data %) only-value)\n",
    "         max-values-with-index (sort-by second > (map-indexed vector cosine-values))\n",
    "         index-of-max-values (reduce (fn [v l] (conj v (first l))) [] (take k max-values-with-index))\n",
    "         top-5-data (mapv train-data index-of-max-values)\n",
    "         final-5-names (reduce (fn [v m] (conj v (:name m))) [] top-5-data)\n",
    "         k-nearest-neighbour     (first (first (sort-by val >(frequencies final-5-names))))\n",
    "         ]\n",
    "        k-nearest-neighbour))"
   ]
  },
  {
   "cell_type": "code",
   "execution_count": 39,
   "metadata": {},
   "outputs": [],
   "source": [
    ";;; Now let us try to calculate the accuracy of our algorithm. For that, we will split out dataset into training data\n",
    ";;; and test data. We will create our model on training data and then test it on test data. Then comparing the\n",
    ";;; predicted values with true values, we calculate the accuracy of our model. "
   ]
  },
  {
   "cell_type": "code",
   "execution_count": 40,
   "metadata": {},
   "outputs": [],
   "source": [
    ";;; We will split our data using 80:20 rule, with 80 percent of data being training data and 20 percent of data being \n",
    ";;; test data. "
   ]
  },
  {
   "cell_type": "code",
   "execution_count": 41,
   "metadata": {},
   "outputs": [
    {
     "data": {
      "text/plain": [
       "#'knn/iris-data-test"
      ]
     },
     "execution_count": 41,
     "metadata": {},
     "output_type": "execute_result"
    }
   ],
   "source": [
    "(def iris-data-train (into [] (random-sample 0.8 reshaped-iris-data)))\n",
    "(def iris-data-test (into [] (clojure.set/difference (into #{} reshaped-iris-data) (into #{}iris-data-train))))"
   ]
  },
  {
   "cell_type": "code",
   "execution_count": 42,
   "metadata": {},
   "outputs": [
    {
     "name": "stdout",
     "output_type": "stream",
     "text": [
      "124\n",
      "23\n"
     ]
    }
   ],
   "source": [
    "(prn (count iris-data-train))\n",
    "(prn (count iris-data-test))"
   ]
  },
  {
   "cell_type": "code",
   "execution_count": 43,
   "metadata": {},
   "outputs": [
    {
     "data": {
      "text/plain": [
       "#'knn/test-data-fed"
      ]
     },
     "execution_count": 43,
     "metadata": {},
     "output_type": "execute_result"
    }
   ],
   "source": [
    "(def true-values (reduce (fn [v m] (conj v (:name m))) [] iris-data-test))\n",
    "(def test-data-fed (reduce (fn [v m] (conj v (:value m))) [] iris-data-test))"
   ]
  },
  {
   "cell_type": "code",
   "execution_count": 44,
   "metadata": {},
   "outputs": [
    {
     "data": {
      "text/plain": [
       "#'knn/predicted-values"
      ]
     },
     "execution_count": 44,
     "metadata": {},
     "output_type": "execute_result"
    }
   ],
   "source": [
    "(def predicted-values (mapv #(knn % iris-data-train 10) test-data-fed))"
   ]
  },
  {
   "cell_type": "code",
   "execution_count": 45,
   "metadata": {},
   "outputs": [
    {
     "data": {
      "text/plain": [
       "#'knn/comparison"
      ]
     },
     "execution_count": 45,
     "metadata": {},
     "output_type": "execute_result"
    }
   ],
   "source": [
    "(defn comparison [v1 v2]\n",
    "    (= v1 v2))"
   ]
  },
  {
   "cell_type": "code",
   "execution_count": 46,
   "metadata": {},
   "outputs": [
    {
     "data": {
      "text/plain": [
       "#'knn/accuracy"
      ]
     },
     "execution_count": 46,
     "metadata": {},
     "output_type": "execute_result"
    }
   ],
   "source": [
    "(defn accuracy [data k split-factor]\n",
    "    (let [iris-data-train (into [] (random-sample split-factor data))\n",
    "          iris-data-test (into [] (clojure.set/difference (into #{} reshaped-iris-data) (into #{}iris-data-train)))\n",
    "          true-values (reduce (fn [v m] (conj v (:name m))) [] iris-data-test)\n",
    "          test-data-fed (reduce (fn [v m] (conj v (:value m))) [] iris-data-test)\n",
    "          predicted-values (mapv #(knn % iris-data-train k) test-data-fed)\n",
    "          total-true (count (filter identity (map #(comparison %1 %2) true-values predicted-values)))\n",
    "          total-count (count true-values)]\n",
    "        (float (* (/ total-true total-count))))) "
   ]
  },
  {
   "cell_type": "code",
   "execution_count": 51,
   "metadata": {},
   "outputs": [
    {
     "data": {
      "text/plain": [
       "0.9259259"
      ]
     },
     "execution_count": 51,
     "metadata": {},
     "output_type": "execute_result"
    }
   ],
   "source": [
    "(accuracy reshaped-iris-data 10 0.8)"
   ]
  },
  {
   "cell_type": "code",
   "execution_count": null,
   "metadata": {},
   "outputs": [
    {
     "name": "stdout",
     "output_type": "stream",
     "text": [
      "Syntax error compiling at (form-init4835575241735323351.clj:6:21).\n",
      "No such namespace: str\n",
      "Syntax error compiling at (form-init4835575241735323351.clj:18:16).\n",
      "No such namespace: io\n"
     ]
    }
   ],
   "source": [
    ";;; Functions to read csv file in clojure. \n",
    "\n",
    "(defn line->stype\n",
    "\n",
    "  [line]\n",
    "  (let [[a b c d e] (str/split line #\"[,]\")]\n",
    "    {:sepal-length a\n",
    "     :sepal-width b\n",
    "     :petal-length c\n",
    "     :petal-width d\n",
    "     :iris e\n",
    "     }))\n",
    "\n",
    "\n",
    "(defn load-mtcars\n",
    "\n",
    "  []\n",
    "  (if (.exists (io/file \"resources/mtcars.csv\"))\n",
    "    (->> (io/resource \"mtcars.csv\")\n",
    "         (io/reader)\n",
    "         (line-seq)\n",
    "         (map #(line->stype %)))\n",
    "    nil))\n"
   ]
  },
  {
   "cell_type": "code",
   "execution_count": null,
   "metadata": {},
   "outputs": [],
   "source": []
  }
 ],
 "metadata": {
  "kernelspec": {
   "display_name": "Lein-Clojure",
   "language": "clojure",
   "name": "lein-clojure"
  },
  "language_info": {
   "file_extension": ".clj",
   "mimetype": "text/x-clojure",
   "name": "clojure",
   "version": "1.10.0"
  }
 },
 "nbformat": 4,
 "nbformat_minor": 2
}
